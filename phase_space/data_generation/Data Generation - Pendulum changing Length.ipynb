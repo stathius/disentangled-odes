{
 "cells": [
  {
   "cell_type": "code",
   "execution_count": 1,
   "metadata": {
    "scrolled": false
   },
   "outputs": [],
   "source": [
    "# https://www.timothycwillard.com/articles/2018/07/21/matplotlib-animations.html\n",
    "###########################\n",
    "####### SIMULATE ##########\n",
    "###########################\n",
    "\n",
    "import numpy as np\n",
    "from scipy.integrate import solve_ivp, odeint\n",
    "import deepdish as dd\n",
    "\n",
    "def pendulum(t, thetas, g, l):\n",
    "    theta, dot_theta = thetas # y0, y1\n",
    "    dots = (dot_theta, -(g/l)*np.sin(theta))\n",
    "    return  dots # y0_dot, y1_dot\n",
    "\n",
    "def create_dataset(n_datapoints, timesteps, dt, angles_bound, length_bound, g):\n",
    "    min_angle, max_angle = angles_bound\n",
    "    min_len, max_len = length_bound\n",
    "    \n",
    "    tmin = 0.0\n",
    "    tmax = timesteps*dt\n",
    "    ts = np.linspace(tmin, tmax, timesteps)\n",
    "\n",
    "    labels = [] # np.empty(n_datapoints) #\n",
    "    cartesian = np.empty((n_datapoints, timesteps, 2)) # 2d of motion\n",
    "    phase_space = np.empty((n_datapoints, timesteps, 2)) # 2 degrees of freedom\n",
    "\n",
    "    for i in range(n_datapoints):\n",
    "        initial_angle = (max_angle - min_angle) * np.random.random_sample() + min_angle \n",
    "        theta0 = np.radians(initial_angle) # initial anglee\n",
    "        omega0 = 0.0 # initial velocity\n",
    "\n",
    "        length = (max_len - min_len) * i/(n_datapoints-1) + min_len\n",
    "        sol = solve_ivp(pendulum, [tmin, tmax], [theta0, omega0], t_eval = ts, args=(g,length))\n",
    "\n",
    "        # save the x, y coordinated of the pendulum\n",
    "        xy = np.zeros_like(sol.y)\n",
    "        xy[0] = length*np.sin(sol.y[0])\n",
    "        xy[1] = length*np.cos(sol.y[0])\n",
    "        cartesian[i] = xy.T\n",
    "\n",
    "        phase_space[i] = sol.y.T\n",
    "\n",
    "        labels.append({'initial_angle': initial_angle, \n",
    "                       'initial_velocity': omega0, \n",
    "                       'gravity': g, \n",
    "                       'length': length})\n",
    "\n",
    "        if i % 500 == 0:\n",
    "            print(i, length, initial_angle)\n",
    "    dataset = {'cartesian': cartesian, 'phase_space': phase_space, 'labels': labels}\n",
    "    return dataset"
   ]
  },
  {
   "cell_type": "code",
   "execution_count": 5,
   "metadata": {},
   "outputs": [],
   "source": [
    "dt = 0.01\n",
    "timesteps = 2000\n",
    "angles_bound = (10, 170)\n",
    "g = 9.81\n",
    "ang_str = '-'.join([str(a) for a in angles_bound])"
   ]
  },
  {
   "cell_type": "code",
   "execution_count": 21,
   "metadata": {},
   "outputs": [
    {
     "name": "stdout",
     "output_type": "stream",
     "text": [
      "0 1.2 90.0\n",
      "500 1.2500200080032013 90.0\n",
      "1000 1.3000400160064025 90.0\n",
      "1500 1.3500600240096037 90.0\n",
      "2000 1.400080032012805 90.0\n"
     ]
    }
   ],
   "source": [
    "length_bound = (1.0, 1.5)\n",
    "n_datapoints = 10000\n",
    "dataset_train = create_dataset(n_datapoints, timesteps, dt, angles_bound, length_bound, g)\n",
    "len_str = '-'.join([f'{a:.2f}' for a in length_bound])\n",
    "dd.io.save(f'../data/pendulum_n_{n_datapoints}_steps_{timesteps}_dt_{dt}_len_{len_str}_angle_{ang_str}_g_{g}.hd5', dataset_train)"
   ]
  },
  {
   "cell_type": "code",
   "execution_count": 6,
   "metadata": {},
   "outputs": [
    {
     "name": "stdout",
     "output_type": "stream",
     "text": [
      "0 0.9 159.09978933331283\n",
      "500 0.95005005005005 78.38651833296461\n"
     ]
    }
   ],
   "source": [
    "length_bound = (0.90, 1.00)\n",
    "n_datapoints = 1000\n",
    "dataset_test1 = create_dataset(n_datapoints, timesteps, dt, angles_bound, length_bound, g)\n",
    "len_str = '-'.join([f'{a:.2f}' for a in length_bound])\n",
    "dd.io.save(f'../data/pendulum_n_{n_datapoints}_steps_{timesteps}_dt_{dt}_len_{len_str}_angle_{ang_str}_g_{g}.hd5', dataset_test1)"
   ]
  },
  {
   "cell_type": "code",
   "execution_count": 7,
   "metadata": {},
   "outputs": [
    {
     "name": "stdout",
     "output_type": "stream",
     "text": [
      "0 1.5 22.093442472969613\n",
      "500 1.55005005005005 59.910835489055486\n"
     ]
    }
   ],
   "source": [
    "length_bound = (1.50, 1.60)\n",
    "n_datapoints = 1000\n",
    "dataset_test1 = create_dataset(n_datapoints, timesteps, dt, angles_bound, length_bound, g)\n",
    "len_str = '-'.join([f'{a:.2f}' for a in length_bound])\n",
    "dd.io.save(f'../data/pendulum_n_{n_datapoints}_steps_{timesteps}_dt_{dt}_len_{len_str}_angle_{ang_str}_g_{g}.hd5', dataset_test1)"
   ]
  },
  {
   "cell_type": "code",
   "execution_count": 23,
   "metadata": {},
   "outputs": [
    {
     "name": "stdout",
     "output_type": "stream",
     "text": [
      "0 1.5 90.0\n"
     ]
    }
   ],
   "source": [
    "length_bound = (1.55, 1.6)\n",
    "n_datapoints = 500\n",
    "dataset_test2 = create_dataset(n_datapoints, timesteps, dt, angles_bound, length_bound, g)\n",
    "len_str = '-'.join([f'{a:.2f}' for a in length_bound])\n",
    "dd.io.save(f'../data/pendulum_n_{n_datapoints}_steps_{timesteps}_dt_{dt}_len_{len_str}_angle_{ang_str}_g_{g}.hd5', dataset_test2)"
   ]
  },
  {
   "cell_type": "code",
   "execution_count": 26,
   "metadata": {},
   "outputs": [
    {
     "name": "stdout",
     "output_type": "stream",
     "text": [
      "lv_n_10000_steps_2000_dt_0.01_X0_5.0_3.0_means_2.0_1.0_4.0_1.0_delta_0.05.hd5\r\n",
      "lv_n_1296_steps_2000_dt_0.01_X0_5.0_3.0_means_2.0_1.0_4.0_1.0_delta_0.05_away_0.00_0.01.hd5\r\n",
      "lv_n_1296_steps_2000_dt_0.01_X0_5.0_3.0_means_2.0_1.0_4.0_1.0_delta_0.05_away_0.01_0.03.hd5\r\n",
      "pendulum_fixed_length.hd5\r\n",
      "pendulum_n_10000_steps_2000_dt_0.01_len_1.0-1.5_angle_10-170_g_9.81.hd5\r\n",
      "pendulum_n_10000_steps_2000_dt_0.01_len_1.20-1.45_angle_10-170_g_9.81.hd5\r\n",
      "pendulum_n_10000_steps_2000_dt_0.05_len_1.0-1.5_angle_10-170_g_9.81.hd5\r\n",
      "pendulum_n_1000_steps_2000_dt_0.01_len_0.5-1.0_angle_10-170_g_9.81.hd5\r\n",
      "pendulum_n_1000_steps_2000_dt_0.01_len_1.45-1.50_angle_10-170_g_9.81.hd5\r\n",
      "pendulum_n_1000_steps_2000_dt_0.01_len_1.50-1.60_angle_10-170_g_9.81.hd5\r\n",
      "pendulum_n_1000_steps_2000_dt_0.01_len_1.5-2.0_angle_10-170_g_9.81.hd5\r\n",
      "pendulum_n_1000_steps_2000_dt_0.05_len_0.5-1.0_angle_10-170_g_9.81.hd5\r\n",
      "pendulum_n_1000_steps_2000_dt_0.05_len_1.5-2.0_angle_10-170_g_9.81.hd5\r\n",
      "pendulum_n_2500_steps_2000_dt_0.01_len_1.20-1.45_angle_90-90_g_9.81.hd5\r\n",
      "pendulum_n_250_steps_2000_dt_0.01_len_1.45-1.50_angle_90-90_g_9.81.hd5\r\n",
      "pendulum_n_500_steps_2000_dt_0.01_len_1.50-1.60_angle_90-90_g_9.81.hd5\r\n",
      "pendulum_var_length_test.hd5\r\n",
      "pendulum_var_length_train.hd5\r\n"
     ]
    }
   ],
   "source": [
    "ls -h ../data"
   ]
  },
  {
   "cell_type": "code",
   "execution_count": 9,
   "metadata": {},
   "outputs": [],
   "source": [
    "!rm ../data/"
   ]
  },
  {
   "cell_type": "code",
   "execution_count": 5,
   "metadata": {},
   "outputs": [],
   "source": [
    "cartesian = np.concatenate([dataset_test['position'], dataset_test2['position']])\n",
    "phase_space = np.concatenate([dataset_test['phase_space'], dataset_test2['phase_space']])\n",
    "labels = dataset_test['labels'] + dataset_test2['labels']\n",
    "dataset_test_final = {'position': cartesian, 'phase_space': phase_space, 'labels': labels}"
   ]
  },
  {
   "cell_type": "code",
   "execution_count": 26,
   "metadata": {},
   "outputs": [
    {
     "ename": "NameError",
     "evalue": "name 'dataset_test_final' is not defined",
     "output_type": "error",
     "traceback": [
      "\u001b[0;31m---------------------------------------------------------------------------\u001b[0m",
      "\u001b[0;31mNameError\u001b[0m                                 Traceback (most recent call last)",
      "\u001b[0;32m<ipython-input-26-d2adfdfb3142>\u001b[0m in \u001b[0;36m<module>\u001b[0;34m\u001b[0m\n\u001b[0;32m----> 1\u001b[0;31m \u001b[0mprint\u001b[0m\u001b[0;34m(\u001b[0m\u001b[0mdataset_test_final\u001b[0m\u001b[0;34m[\u001b[0m\u001b[0;34m'positions'\u001b[0m\u001b[0;34m]\u001b[0m\u001b[0;34m.\u001b[0m\u001b[0mshape\u001b[0m\u001b[0;34m)\u001b[0m\u001b[0;34m\u001b[0m\u001b[0;34m\u001b[0m\u001b[0m\n\u001b[0m\u001b[1;32m      2\u001b[0m \u001b[0mprint\u001b[0m\u001b[0;34m(\u001b[0m\u001b[0mdataset_test_final\u001b[0m\u001b[0;34m[\u001b[0m\u001b[0;34m'phase_space'\u001b[0m\u001b[0;34m]\u001b[0m\u001b[0;34m.\u001b[0m\u001b[0mshape\u001b[0m\u001b[0;34m)\u001b[0m\u001b[0;34m\u001b[0m\u001b[0;34m\u001b[0m\u001b[0m\n\u001b[1;32m      3\u001b[0m \u001b[0mprint\u001b[0m\u001b[0;34m(\u001b[0m\u001b[0mlen\u001b[0m\u001b[0;34m(\u001b[0m\u001b[0mdataset_test_final\u001b[0m\u001b[0;34m[\u001b[0m\u001b[0;34m'labels'\u001b[0m\u001b[0;34m]\u001b[0m\u001b[0;34m)\u001b[0m\u001b[0;34m)\u001b[0m\u001b[0;34m\u001b[0m\u001b[0;34m\u001b[0m\u001b[0m\n",
      "\u001b[0;31mNameError\u001b[0m: name 'dataset_test_final' is not defined"
     ]
    }
   ],
   "source": [
    "print(dataset_test_final['position'].shape)\n",
    "print(dataset_test_final['phase_space'].shape)\n",
    "print(len(dataset_test_final['labels']))"
   ]
  },
  {
   "cell_type": "code",
   "execution_count": 9,
   "metadata": {},
   "outputs": [],
   "source": [
    "dd.io.save('../data/pendulum_var_length_test.hd5', dataset_test_final)"
   ]
  },
  {
   "cell_type": "code",
   "execution_count": 40,
   "metadata": {},
   "outputs": [
    {
     "data": {
      "text/plain": [
       "dict_keys(['positions', 'phase_space', 'labels'])"
      ]
     },
     "execution_count": 40,
     "metadata": {},
     "output_type": "execute_result"
    }
   ],
   "source": [
    "dataset_test1.keys()"
   ]
  },
  {
   "cell_type": "code",
   "execution_count": 60,
   "metadata": {},
   "outputs": [
    {
     "data": {
      "text/plain": [
       "10000"
      ]
     },
     "execution_count": 60,
     "metadata": {},
     "output_type": "execute_result"
    }
   ],
   "source": [
    "len(dataset_train['labels'])"
   ]
  },
  {
   "cell_type": "code",
   "execution_count": null,
   "metadata": {},
   "outputs": [],
   "source": []
  }
 ],
 "metadata": {
  "kernelspec": {
   "display_name": "Python 3",
   "language": "python",
   "name": "python3"
  },
  "language_info": {
   "codemirror_mode": {
    "name": "ipython",
    "version": 3
   },
   "file_extension": ".py",
   "mimetype": "text/x-python",
   "name": "python",
   "nbconvert_exporter": "python",
   "pygments_lexer": "ipython3",
   "version": "3.7.10"
  }
 },
 "nbformat": 4,
 "nbformat_minor": 4
}
